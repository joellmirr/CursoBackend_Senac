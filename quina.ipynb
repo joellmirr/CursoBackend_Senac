{
  "nbformat": 4,
  "nbformat_minor": 0,
  "metadata": {
    "colab": {
      "provenance": []
    },
    "kernelspec": {
      "name": "python3",
      "display_name": "Python 3"
    },
    "language_info": {
      "name": "python"
    }
  },
  "cells": [
    {
      "cell_type": "code",
      "execution_count": 33,
      "metadata": {
        "id": "iFvAcb449w2l"
      },
      "outputs": [],
      "source": [
        "import numpy as np"
      ]
    },
    {
      "cell_type": "code",
      "source": [
        "import pandas as pd\n"
      ],
      "metadata": {
        "id": "CQYMsKAy93al"
      },
      "execution_count": 34,
      "outputs": []
    },
    {
      "cell_type": "code",
      "source": [
        "quina_loterica = '/content/Quina.xlsx'"
      ],
      "metadata": {
        "id": "3rFcbxtH-QzG"
      },
      "execution_count": 35,
      "outputs": []
    },
    {
      "cell_type": "code",
      "source": [
        "quina = pd.read_excel(quina_loterica)"
      ],
      "metadata": {
        "id": "JrWHj7GJ-s6S"
      },
      "execution_count": 36,
      "outputs": []
    },
    {
      "cell_type": "code",
      "source": [
        "quina.head()"
      ],
      "metadata": {
        "colab": {
          "base_uri": "https://localhost:8080/",
          "height": 325
        },
        "id": "rMIYYK6y--HT",
        "outputId": "ff801121-a082-4ac9-ceac-fc424c34ad15"
      },
      "execution_count": 37,
      "outputs": [
        {
          "output_type": "execute_result",
          "data": {
            "text/plain": [
              "   Concurso Data Sorteio  Bola1  Bola2  Bola3  Bola4  Bola5  \\\n",
              "0         1   13/03/1994     25     45     60     76     79   \n",
              "1         2   17/03/1994     13     30     58     63     64   \n",
              "2         3   20/03/1994      5     15     32     33     48   \n",
              "3         4   24/03/1994     27     57     60     61     77   \n",
              "4         5   27/03/1994     19     44     53     54     71   \n",
              "\n",
              "   Ganhadores 5 acertos Cidade / UF  Rateio 5 acertos  ...  Rateio 4 acertos  \\\n",
              "0                     3         NaN   R$75.731.225,00  ...    R$1.788.927,00   \n",
              "1                     1         NaN  R$118.499.397,00  ...    R$1.128.565,00   \n",
              "2                     1         NaN  R$154.244.270,00  ...      R$664.846,00   \n",
              "3                     1         NaN  R$124.185.246,00  ...    R$1.592.119,00   \n",
              "4                     1         NaN  R$147.595.715,00  ...    R$1.077.341,00   \n",
              "\n",
              "  Ganhadores 3 acertos  Rateio 3 acertos Ganhadores 2 acertos  \\\n",
              "0                 7030       R$42.982,00                    0   \n",
              "1                 4861       R$32.422,00                    0   \n",
              "2                10196       R$20.120,00                    0   \n",
              "3                 4033       R$40.954,00                    0   \n",
              "4                 5338       R$36.774,00                    0   \n",
              "\n",
              "   Rateio 2 acertos Acumulado 5 acertos Arrecadacao Total Estimativa Premio  \\\n",
              "0            R$0,00              R$0,00            R$0,00            R$0,00   \n",
              "1            R$0,00              R$0,00            R$0,00            R$0,00   \n",
              "2            R$0,00              R$0,00            R$0,00            R$0,00   \n",
              "3            R$0,00              R$0,00            R$0,00            R$0,00   \n",
              "4            R$0,00              R$0,00            R$0,00            R$0,00   \n",
              "\n",
              "  Acumulado Sorteio Especial Quina de São João observação  \n",
              "0                                       R$0,00        NaN  \n",
              "1                                       R$0,00        NaN  \n",
              "2                                       R$0,00        NaN  \n",
              "3                                       R$0,00        NaN  \n",
              "4                                       R$0,00        NaN  \n",
              "\n",
              "[5 rows x 21 columns]"
            ],
            "text/html": [
              "\n",
              "  <div id=\"df-c2edaa4d-6af8-4291-89d5-459f280763bf\" class=\"colab-df-container\">\n",
              "    <div>\n",
              "<style scoped>\n",
              "    .dataframe tbody tr th:only-of-type {\n",
              "        vertical-align: middle;\n",
              "    }\n",
              "\n",
              "    .dataframe tbody tr th {\n",
              "        vertical-align: top;\n",
              "    }\n",
              "\n",
              "    .dataframe thead th {\n",
              "        text-align: right;\n",
              "    }\n",
              "</style>\n",
              "<table border=\"1\" class=\"dataframe\">\n",
              "  <thead>\n",
              "    <tr style=\"text-align: right;\">\n",
              "      <th></th>\n",
              "      <th>Concurso</th>\n",
              "      <th>Data Sorteio</th>\n",
              "      <th>Bola1</th>\n",
              "      <th>Bola2</th>\n",
              "      <th>Bola3</th>\n",
              "      <th>Bola4</th>\n",
              "      <th>Bola5</th>\n",
              "      <th>Ganhadores 5 acertos</th>\n",
              "      <th>Cidade / UF</th>\n",
              "      <th>Rateio 5 acertos</th>\n",
              "      <th>...</th>\n",
              "      <th>Rateio 4 acertos</th>\n",
              "      <th>Ganhadores 3 acertos</th>\n",
              "      <th>Rateio 3 acertos</th>\n",
              "      <th>Ganhadores 2 acertos</th>\n",
              "      <th>Rateio 2 acertos</th>\n",
              "      <th>Acumulado 5 acertos</th>\n",
              "      <th>Arrecadacao Total</th>\n",
              "      <th>Estimativa Premio</th>\n",
              "      <th>Acumulado Sorteio Especial Quina de São João</th>\n",
              "      <th>observação</th>\n",
              "    </tr>\n",
              "  </thead>\n",
              "  <tbody>\n",
              "    <tr>\n",
              "      <th>0</th>\n",
              "      <td>1</td>\n",
              "      <td>13/03/1994</td>\n",
              "      <td>25</td>\n",
              "      <td>45</td>\n",
              "      <td>60</td>\n",
              "      <td>76</td>\n",
              "      <td>79</td>\n",
              "      <td>3</td>\n",
              "      <td>NaN</td>\n",
              "      <td>R$75.731.225,00</td>\n",
              "      <td>...</td>\n",
              "      <td>R$1.788.927,00</td>\n",
              "      <td>7030</td>\n",
              "      <td>R$42.982,00</td>\n",
              "      <td>0</td>\n",
              "      <td>R$0,00</td>\n",
              "      <td>R$0,00</td>\n",
              "      <td>R$0,00</td>\n",
              "      <td>R$0,00</td>\n",
              "      <td>R$0,00</td>\n",
              "      <td>NaN</td>\n",
              "    </tr>\n",
              "    <tr>\n",
              "      <th>1</th>\n",
              "      <td>2</td>\n",
              "      <td>17/03/1994</td>\n",
              "      <td>13</td>\n",
              "      <td>30</td>\n",
              "      <td>58</td>\n",
              "      <td>63</td>\n",
              "      <td>64</td>\n",
              "      <td>1</td>\n",
              "      <td>NaN</td>\n",
              "      <td>R$118.499.397,00</td>\n",
              "      <td>...</td>\n",
              "      <td>R$1.128.565,00</td>\n",
              "      <td>4861</td>\n",
              "      <td>R$32.422,00</td>\n",
              "      <td>0</td>\n",
              "      <td>R$0,00</td>\n",
              "      <td>R$0,00</td>\n",
              "      <td>R$0,00</td>\n",
              "      <td>R$0,00</td>\n",
              "      <td>R$0,00</td>\n",
              "      <td>NaN</td>\n",
              "    </tr>\n",
              "    <tr>\n",
              "      <th>2</th>\n",
              "      <td>3</td>\n",
              "      <td>20/03/1994</td>\n",
              "      <td>5</td>\n",
              "      <td>15</td>\n",
              "      <td>32</td>\n",
              "      <td>33</td>\n",
              "      <td>48</td>\n",
              "      <td>1</td>\n",
              "      <td>NaN</td>\n",
              "      <td>R$154.244.270,00</td>\n",
              "      <td>...</td>\n",
              "      <td>R$664.846,00</td>\n",
              "      <td>10196</td>\n",
              "      <td>R$20.120,00</td>\n",
              "      <td>0</td>\n",
              "      <td>R$0,00</td>\n",
              "      <td>R$0,00</td>\n",
              "      <td>R$0,00</td>\n",
              "      <td>R$0,00</td>\n",
              "      <td>R$0,00</td>\n",
              "      <td>NaN</td>\n",
              "    </tr>\n",
              "    <tr>\n",
              "      <th>3</th>\n",
              "      <td>4</td>\n",
              "      <td>24/03/1994</td>\n",
              "      <td>27</td>\n",
              "      <td>57</td>\n",
              "      <td>60</td>\n",
              "      <td>61</td>\n",
              "      <td>77</td>\n",
              "      <td>1</td>\n",
              "      <td>NaN</td>\n",
              "      <td>R$124.185.246,00</td>\n",
              "      <td>...</td>\n",
              "      <td>R$1.592.119,00</td>\n",
              "      <td>4033</td>\n",
              "      <td>R$40.954,00</td>\n",
              "      <td>0</td>\n",
              "      <td>R$0,00</td>\n",
              "      <td>R$0,00</td>\n",
              "      <td>R$0,00</td>\n",
              "      <td>R$0,00</td>\n",
              "      <td>R$0,00</td>\n",
              "      <td>NaN</td>\n",
              "    </tr>\n",
              "    <tr>\n",
              "      <th>4</th>\n",
              "      <td>5</td>\n",
              "      <td>27/03/1994</td>\n",
              "      <td>19</td>\n",
              "      <td>44</td>\n",
              "      <td>53</td>\n",
              "      <td>54</td>\n",
              "      <td>71</td>\n",
              "      <td>1</td>\n",
              "      <td>NaN</td>\n",
              "      <td>R$147.595.715,00</td>\n",
              "      <td>...</td>\n",
              "      <td>R$1.077.341,00</td>\n",
              "      <td>5338</td>\n",
              "      <td>R$36.774,00</td>\n",
              "      <td>0</td>\n",
              "      <td>R$0,00</td>\n",
              "      <td>R$0,00</td>\n",
              "      <td>R$0,00</td>\n",
              "      <td>R$0,00</td>\n",
              "      <td>R$0,00</td>\n",
              "      <td>NaN</td>\n",
              "    </tr>\n",
              "  </tbody>\n",
              "</table>\n",
              "<p>5 rows × 21 columns</p>\n",
              "</div>\n",
              "    <div class=\"colab-df-buttons\">\n",
              "\n",
              "  <div class=\"colab-df-container\">\n",
              "    <button class=\"colab-df-convert\" onclick=\"convertToInteractive('df-c2edaa4d-6af8-4291-89d5-459f280763bf')\"\n",
              "            title=\"Convert this dataframe to an interactive table.\"\n",
              "            style=\"display:none;\">\n",
              "\n",
              "  <svg xmlns=\"http://www.w3.org/2000/svg\" height=\"24px\" viewBox=\"0 -960 960 960\">\n",
              "    <path d=\"M120-120v-720h720v720H120Zm60-500h600v-160H180v160Zm220 220h160v-160H400v160Zm0 220h160v-160H400v160ZM180-400h160v-160H180v160Zm440 0h160v-160H620v160ZM180-180h160v-160H180v160Zm440 0h160v-160H620v160Z\"/>\n",
              "  </svg>\n",
              "    </button>\n",
              "\n",
              "  <style>\n",
              "    .colab-df-container {\n",
              "      display:flex;\n",
              "      gap: 12px;\n",
              "    }\n",
              "\n",
              "    .colab-df-convert {\n",
              "      background-color: #E8F0FE;\n",
              "      border: none;\n",
              "      border-radius: 50%;\n",
              "      cursor: pointer;\n",
              "      display: none;\n",
              "      fill: #1967D2;\n",
              "      height: 32px;\n",
              "      padding: 0 0 0 0;\n",
              "      width: 32px;\n",
              "    }\n",
              "\n",
              "    .colab-df-convert:hover {\n",
              "      background-color: #E2EBFA;\n",
              "      box-shadow: 0px 1px 2px rgba(60, 64, 67, 0.3), 0px 1px 3px 1px rgba(60, 64, 67, 0.15);\n",
              "      fill: #174EA6;\n",
              "    }\n",
              "\n",
              "    .colab-df-buttons div {\n",
              "      margin-bottom: 4px;\n",
              "    }\n",
              "\n",
              "    [theme=dark] .colab-df-convert {\n",
              "      background-color: #3B4455;\n",
              "      fill: #D2E3FC;\n",
              "    }\n",
              "\n",
              "    [theme=dark] .colab-df-convert:hover {\n",
              "      background-color: #434B5C;\n",
              "      box-shadow: 0px 1px 3px 1px rgba(0, 0, 0, 0.15);\n",
              "      filter: drop-shadow(0px 1px 2px rgba(0, 0, 0, 0.3));\n",
              "      fill: #FFFFFF;\n",
              "    }\n",
              "  </style>\n",
              "\n",
              "    <script>\n",
              "      const buttonEl =\n",
              "        document.querySelector('#df-c2edaa4d-6af8-4291-89d5-459f280763bf button.colab-df-convert');\n",
              "      buttonEl.style.display =\n",
              "        google.colab.kernel.accessAllowed ? 'block' : 'none';\n",
              "\n",
              "      async function convertToInteractive(key) {\n",
              "        const element = document.querySelector('#df-c2edaa4d-6af8-4291-89d5-459f280763bf');\n",
              "        const dataTable =\n",
              "          await google.colab.kernel.invokeFunction('convertToInteractive',\n",
              "                                                    [key], {});\n",
              "        if (!dataTable) return;\n",
              "\n",
              "        const docLinkHtml = 'Like what you see? Visit the ' +\n",
              "          '<a target=\"_blank\" href=https://colab.research.google.com/notebooks/data_table.ipynb>data table notebook</a>'\n",
              "          + ' to learn more about interactive tables.';\n",
              "        element.innerHTML = '';\n",
              "        dataTable['output_type'] = 'display_data';\n",
              "        await google.colab.output.renderOutput(dataTable, element);\n",
              "        const docLink = document.createElement('div');\n",
              "        docLink.innerHTML = docLinkHtml;\n",
              "        element.appendChild(docLink);\n",
              "      }\n",
              "    </script>\n",
              "  </div>\n",
              "\n",
              "\n",
              "<div id=\"df-32d86fec-2df2-4900-89e9-850523fdf1f6\">\n",
              "  <button class=\"colab-df-quickchart\" onclick=\"quickchart('df-32d86fec-2df2-4900-89e9-850523fdf1f6')\"\n",
              "            title=\"Suggest charts.\"\n",
              "            style=\"display:none;\">\n",
              "\n",
              "<svg xmlns=\"http://www.w3.org/2000/svg\" height=\"24px\"viewBox=\"0 0 24 24\"\n",
              "     width=\"24px\">\n",
              "    <g>\n",
              "        <path d=\"M19 3H5c-1.1 0-2 .9-2 2v14c0 1.1.9 2 2 2h14c1.1 0 2-.9 2-2V5c0-1.1-.9-2-2-2zM9 17H7v-7h2v7zm4 0h-2V7h2v10zm4 0h-2v-4h2v4z\"/>\n",
              "    </g>\n",
              "</svg>\n",
              "  </button>\n",
              "\n",
              "<style>\n",
              "  .colab-df-quickchart {\n",
              "      --bg-color: #E8F0FE;\n",
              "      --fill-color: #1967D2;\n",
              "      --hover-bg-color: #E2EBFA;\n",
              "      --hover-fill-color: #174EA6;\n",
              "      --disabled-fill-color: #AAA;\n",
              "      --disabled-bg-color: #DDD;\n",
              "  }\n",
              "\n",
              "  [theme=dark] .colab-df-quickchart {\n",
              "      --bg-color: #3B4455;\n",
              "      --fill-color: #D2E3FC;\n",
              "      --hover-bg-color: #434B5C;\n",
              "      --hover-fill-color: #FFFFFF;\n",
              "      --disabled-bg-color: #3B4455;\n",
              "      --disabled-fill-color: #666;\n",
              "  }\n",
              "\n",
              "  .colab-df-quickchart {\n",
              "    background-color: var(--bg-color);\n",
              "    border: none;\n",
              "    border-radius: 50%;\n",
              "    cursor: pointer;\n",
              "    display: none;\n",
              "    fill: var(--fill-color);\n",
              "    height: 32px;\n",
              "    padding: 0;\n",
              "    width: 32px;\n",
              "  }\n",
              "\n",
              "  .colab-df-quickchart:hover {\n",
              "    background-color: var(--hover-bg-color);\n",
              "    box-shadow: 0 1px 2px rgba(60, 64, 67, 0.3), 0 1px 3px 1px rgba(60, 64, 67, 0.15);\n",
              "    fill: var(--button-hover-fill-color);\n",
              "  }\n",
              "\n",
              "  .colab-df-quickchart-complete:disabled,\n",
              "  .colab-df-quickchart-complete:disabled:hover {\n",
              "    background-color: var(--disabled-bg-color);\n",
              "    fill: var(--disabled-fill-color);\n",
              "    box-shadow: none;\n",
              "  }\n",
              "\n",
              "  .colab-df-spinner {\n",
              "    border: 2px solid var(--fill-color);\n",
              "    border-color: transparent;\n",
              "    border-bottom-color: var(--fill-color);\n",
              "    animation:\n",
              "      spin 1s steps(1) infinite;\n",
              "  }\n",
              "\n",
              "  @keyframes spin {\n",
              "    0% {\n",
              "      border-color: transparent;\n",
              "      border-bottom-color: var(--fill-color);\n",
              "      border-left-color: var(--fill-color);\n",
              "    }\n",
              "    20% {\n",
              "      border-color: transparent;\n",
              "      border-left-color: var(--fill-color);\n",
              "      border-top-color: var(--fill-color);\n",
              "    }\n",
              "    30% {\n",
              "      border-color: transparent;\n",
              "      border-left-color: var(--fill-color);\n",
              "      border-top-color: var(--fill-color);\n",
              "      border-right-color: var(--fill-color);\n",
              "    }\n",
              "    40% {\n",
              "      border-color: transparent;\n",
              "      border-right-color: var(--fill-color);\n",
              "      border-top-color: var(--fill-color);\n",
              "    }\n",
              "    60% {\n",
              "      border-color: transparent;\n",
              "      border-right-color: var(--fill-color);\n",
              "    }\n",
              "    80% {\n",
              "      border-color: transparent;\n",
              "      border-right-color: var(--fill-color);\n",
              "      border-bottom-color: var(--fill-color);\n",
              "    }\n",
              "    90% {\n",
              "      border-color: transparent;\n",
              "      border-bottom-color: var(--fill-color);\n",
              "    }\n",
              "  }\n",
              "</style>\n",
              "\n",
              "  <script>\n",
              "    async function quickchart(key) {\n",
              "      const quickchartButtonEl =\n",
              "        document.querySelector('#' + key + ' button');\n",
              "      quickchartButtonEl.disabled = true;  // To prevent multiple clicks.\n",
              "      quickchartButtonEl.classList.add('colab-df-spinner');\n",
              "      try {\n",
              "        const charts = await google.colab.kernel.invokeFunction(\n",
              "            'suggestCharts', [key], {});\n",
              "      } catch (error) {\n",
              "        console.error('Error during call to suggestCharts:', error);\n",
              "      }\n",
              "      quickchartButtonEl.classList.remove('colab-df-spinner');\n",
              "      quickchartButtonEl.classList.add('colab-df-quickchart-complete');\n",
              "    }\n",
              "    (() => {\n",
              "      let quickchartButtonEl =\n",
              "        document.querySelector('#df-32d86fec-2df2-4900-89e9-850523fdf1f6 button');\n",
              "      quickchartButtonEl.style.display =\n",
              "        google.colab.kernel.accessAllowed ? 'block' : 'none';\n",
              "    })();\n",
              "  </script>\n",
              "</div>\n",
              "    </div>\n",
              "  </div>\n"
            ]
          },
          "metadata": {},
          "execution_count": 37
        }
      ]
    },
    {
      "cell_type": "code",
      "source": [
        "quina.dtypes"
      ],
      "metadata": {
        "colab": {
          "base_uri": "https://localhost:8080/"
        },
        "id": "3WCtGfZIAbfo",
        "outputId": "cd5322bd-ed06-4660-fc8a-0d1660b2cb1d"
      },
      "execution_count": 17,
      "outputs": [
        {
          "output_type": "execute_result",
          "data": {
            "text/plain": [
              "Concurso                                         int64\n",
              "Data Sorteio                                    object\n",
              "Bola1                                            int64\n",
              "Bola2                                            int64\n",
              "Bola3                                            int64\n",
              "Bola4                                            int64\n",
              "Bola5                                            int64\n",
              "Ganhadores 5 acertos                             int64\n",
              "Cidade / UF                                     object\n",
              "Rateio 5 acertos                                object\n",
              "Ganhadores 4 acertos                             int64\n",
              "Rateio 4 acertos                                object\n",
              "Ganhadores 3 acertos                             int64\n",
              "Rateio 3 acertos                                object\n",
              "Ganhadores 2 acertos                             int64\n",
              "Rateio 2 acertos                                object\n",
              "Acumulado 5 acertos                             object\n",
              "Arrecadacao Total                               object\n",
              "Estimativa Premio                               object\n",
              "Acumulado Sorteio Especial Quina de São João    object\n",
              "observação                                      object\n",
              "dtype: object"
            ]
          },
          "metadata": {},
          "execution_count": 17
        }
      ]
    },
    {
      "cell_type": "code",
      "source": [
        "bolaNumeros = quina[['Bola1','Bola2','Bola3','Bola4','Bola5']]"
      ],
      "metadata": {
        "id": "ZwfaWVPPAeJC"
      },
      "execution_count": 38,
      "outputs": []
    },
    {
      "cell_type": "code",
      "source": [
        "print(bolaNumeros)"
      ],
      "metadata": {
        "colab": {
          "base_uri": "https://localhost:8080/"
        },
        "id": "QBY365ZVCb3d",
        "outputId": "dddd69fc-cbca-45b6-d396-ae56069020f1"
      },
      "execution_count": 39,
      "outputs": [
        {
          "output_type": "stream",
          "name": "stdout",
          "text": [
            "      Bola1  Bola2  Bola3  Bola4  Bola5\n",
            "0        25     45     60     76     79\n",
            "1        13     30     58     63     64\n",
            "2         5     15     32     33     48\n",
            "3        27     57     60     61     77\n",
            "4        19     44     53     54     71\n",
            "...     ...    ...    ...    ...    ...\n",
            "6260     44     52     63     71     77\n",
            "6261     16     38     64     68     77\n",
            "6262     26     27     34     36     60\n",
            "6263      2      3     27     35     43\n",
            "6264     48     52     53     67     78\n",
            "\n",
            "[6265 rows x 5 columns]\n"
          ]
        }
      ]
    },
    {
      "cell_type": "code",
      "source": [
        "duplicados = bolaNumeros[bolaNumeros.duplicated(subset=['Bola1','Bola2','Bola3','Bola4','Bola5'])]"
      ],
      "metadata": {
        "id": "LdHZlofVCf1r"
      },
      "execution_count": 40,
      "outputs": []
    },
    {
      "cell_type": "code",
      "source": [
        "contador = bolaNumeros[['Bola1','Bola2','Bola3','Bola4','Bola5']].value_counts()"
      ],
      "metadata": {
        "id": "2XmpFpm_Dfs-"
      },
      "execution_count": 41,
      "outputs": []
    },
    {
      "cell_type": "code",
      "source": [
        "print(duplicados)"
      ],
      "metadata": {
        "colab": {
          "base_uri": "https://localhost:8080/"
        },
        "id": "qq_jy1aiDxnl",
        "outputId": "ecaed7ec-98cb-4d82-bc48-2cd9a63b82a4"
      },
      "execution_count": 42,
      "outputs": [
        {
          "output_type": "stream",
          "name": "stdout",
          "text": [
            "      Bola1  Bola2  Bola3  Bola4  Bola5\n",
            "1156      7     10     28     62     78\n",
            "4308     14     35     37     57     65\n",
            "5983     32     35     37     65     66\n"
          ]
        }
      ]
    },
    {
      "cell_type": "code",
      "source": [
        "print(contador)"
      ],
      "metadata": {
        "colab": {
          "base_uri": "https://localhost:8080/"
        },
        "id": "6td2crNKD0sB",
        "outputId": "88ebebe0-c62b-432f-d940-b8cc0a658ed9"
      },
      "execution_count": 30,
      "outputs": [
        {
          "output_type": "stream",
          "name": "stdout",
          "text": [
            "Bola1  Bola2  Bola3  Bola4  Bola5\n",
            "32     35     37     65     66       2\n",
            "14     35     37     57     65       2\n",
            "7      10     28     62     78       2\n",
            "1      2      3      27     65       1\n",
            "16     18     42     54     61       1\n",
            "                                    ..\n",
            "7      8      18     25     35       1\n",
            "              17     47     55       1\n",
            "              13     49     65       1\n",
            "                     18     24       1\n",
            "66     73     75     76     79       1\n",
            "Length: 6262, dtype: int64\n"
          ]
        }
      ]
    },
    {
      "cell_type": "code",
      "source": [
        "matriz = bolaNumeros.values"
      ],
      "metadata": {
        "id": "mHJRgPzyD5GZ"
      },
      "execution_count": 43,
      "outputs": []
    },
    {
      "cell_type": "code",
      "source": [
        "print(matriz)"
      ],
      "metadata": {
        "colab": {
          "base_uri": "https://localhost:8080/"
        },
        "id": "Lr4yGUmrGyOi",
        "outputId": "2ea2db04-80a3-4f2e-ccbf-a4b83869730d"
      },
      "execution_count": 44,
      "outputs": [
        {
          "output_type": "stream",
          "name": "stdout",
          "text": [
            "[[25 45 60 76 79]\n",
            " [13 30 58 63 64]\n",
            " [ 5 15 32 33 48]\n",
            " ...\n",
            " [26 27 34 36 60]\n",
            " [ 2  3 27 35 43]\n",
            " [48 52 53 67 78]]\n"
          ]
        }
      ]
    },
    {
      "cell_type": "code",
      "source": [
        "# Obtém os valores únicos e suas contagens\n",
        "valores_unicos, contagem = np.unique(matriz, return_counts=True)\n",
        "\n",
        "# Cria um DataFrame para armazenar os valores únicos e suas contagens\n",
        "dados_contagem = pd.DataFrame({'Valor': valores_unicos, 'Contagem': contagem})\n",
        "\n",
        "# Ordena o DataFrame pela coluna 'Contagem' em ordem decrescente\n",
        "dados_contagem = dados_contagem.sort_values(by='Contagem', ascending=False)\n",
        "\n",
        "# Obtém os valores mais repetidos\n",
        "valores_mais_repetidos = dados_contagem[dados_contagem['Contagem'] == dados_contagem['Contagem'].max()]\n",
        "\n",
        "print(\"Valores mais repetidos:\")\n",
        "print(valores_mais_repetidos)\n",
        "\n",
        "#O código acima cria um DataFrame chamado dados_contagem que armazena os valores únicos e suas contagens.\n",
        "#Em seguida, ele classifica o DataFrame com base na coluna de contagem em ordem decrescente.\n",
        "#Por fim, ele obtém os valores mais repetidos, que são aqueles com a contagem máxima.\n",
        "#Os valores mais repetidos serão armazenados no DataFrame valores_mais_repetidos,\n",
        "#que pode ser impresso ou usado conforme necessário.\n",
        "\n",
        "\n",
        "\n",
        "\n",
        "\n"
      ],
      "metadata": {
        "colab": {
          "base_uri": "https://localhost:8080/"
        },
        "id": "eL01_MO2Hy6w",
        "outputId": "ed2d17b2-3c1a-4f44-ab59-e69d7a7a3b71"
      },
      "execution_count": 46,
      "outputs": [
        {
          "output_type": "stream",
          "name": "stdout",
          "text": [
            "Valores mais repetidos:\n",
            "   Valor  Contagem\n",
            "3      4       443\n"
          ]
        }
      ]
    },
    {
      "cell_type": "code",
      "source": [
        "# Obtém os valores únicos e suas contagens\n",
        "valores_unicos, contagem = np.unique(matriz, return_counts=True)\n",
        "\n",
        "# Verifica quais valores têm contagens maiores que 1 (são repetidos)\n",
        "valores_repetidos = valores_unicos[contagem > 420]\n",
        "\n",
        "print(\"Valores repetidos:\")\n",
        "print(valores_repetidos)\n"
      ],
      "metadata": {
        "colab": {
          "base_uri": "https://localhost:8080/"
        },
        "id": "hF5-WcpBIiW4",
        "outputId": "caac22e0-7e52-4a89-deda-983fd9d8b918"
      },
      "execution_count": 64,
      "outputs": [
        {
          "output_type": "stream",
          "name": "stdout",
          "text": [
            "Valores repetidos:\n",
            "[ 4 16 26 49 52]\n"
          ]
        }
      ]
    },
    {
      "cell_type": "code",
      "source": [],
      "metadata": {
        "id": "aYtl_LVxJXD0"
      },
      "execution_count": null,
      "outputs": []
    }
  ]
}