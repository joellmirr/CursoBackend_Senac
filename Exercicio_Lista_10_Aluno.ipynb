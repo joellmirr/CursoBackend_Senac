{
  "cells": [
    {
      "cell_type": "markdown",
      "metadata": {
        "id": "-MdhBQzxgO_t"
      },
      "source": [
        "Exercico 1. Criar lista nomes de alunos, inseridos pelo usuario ate sair didgitando -1.\n"
      ]
    },
    {
      "cell_type": "code",
      "execution_count": 18,
      "metadata": {
        "colab": {
          "base_uri": "https://localhost:8080/"
        },
        "id": "U1nte6CHgsAV",
        "outputId": "e647a365-2468-457a-a8ad-78be48839623"
      },
      "outputs": [
        {
          "output_type": "stream",
          "name": "stdout",
          "text": [
            "Lista Alunos:\n",
            "Informe Nome do Aluno:JOEL\n",
            "Informe Nome do Aluno:PAULO\n",
            "Informe Nome do Aluno:PEDRO\n",
            "Informe Nome do Aluno:JOAO\n",
            "Informe Nome do Aluno:MARIO\n",
            "Informe Nome do Aluno:JULIO\n",
            "Informe Nome do Aluno:JUNIOR\n",
            "Informe Nome do Aluno:MARI\n",
            "Informe Nome do Aluno:MARIA\n",
            "Informe Nome do Aluno:LIGIA\n",
            "Informe Nome do Aluno:LUD\n",
            "Informe Nome do Aluno:FAEL\n",
            "Informe Nome do Aluno:CAIO\n",
            "Informe Nome do Aluno:DANI\n",
            "Informe Nome do Aluno:SHALIN\n",
            "Informe Nome do Aluno:-1\n",
            "Alunos:  ['JOEL', 'PAULO', 'PEDRO', 'JOAO', 'MARIO', 'JULIO', 'JUNIOR', 'MARI', 'MARIA', 'LIGIA', 'LUD', 'FAEL', 'CAIO', 'DANI', 'SHALIN']\n"
          ]
        }
      ],
      "source": [
        "print(\"Lista Alunos:\")\n",
        "listaAlunos = []\n",
        "i = 0\n",
        "while i != \"-1\":\n",
        "  i = input(\"Informe Nome do Aluno:\")\n",
        "  if i == \"-1\":\n",
        "    break\n",
        "  listaAlunos.append(i)\n",
        "print(\"Alunos: \",listaAlunos)"
      ]
    },
    {
      "cell_type": "markdown",
      "metadata": {
        "id": "7Tn8P4EFo7I9"
      },
      "source": [
        "Exercicio 2.\n"
      ]
    },
    {
      "cell_type": "code",
      "execution_count": 19,
      "metadata": {
        "colab": {
          "base_uri": "https://localhost:8080/"
        },
        "id": "HnDY7RGVpc_G",
        "outputId": "f210ca03-5aa3-459c-eb7b-cf450b5a5506"
      },
      "outputs": [
        {
          "output_type": "stream",
          "name": "stdout",
          "text": [
            "Alunos:  ['PAULO', 'PEDRO', 'JOAO', 'JULIO', 'JUNIOR', 'MARI', 'MARIA', 'LUD', 'CAIO', 'DANI', 'SHALIN']\n"
          ]
        }
      ],
      "source": [
        "listaAlunos.pop(0)\n",
        "listaAlunos.pop(3)\n",
        "listaAlunos.pop(7)\n",
        "listaAlunos.pop(8)\n",
        "print(\"Alunos: \",listaAlunos)"
      ]
    },
    {
      "cell_type": "markdown",
      "source": [
        "Exercicio 3."
      ],
      "metadata": {
        "id": "UXyWGm1SgEfL"
      }
    },
    {
      "cell_type": "code",
      "source": [
        "x = listaAlunos.index('SHALIN')\n",
        "print(x)"
      ],
      "metadata": {
        "colab": {
          "base_uri": "https://localhost:8080/"
        },
        "id": "0OhBzZP_gHoj",
        "outputId": "29a756f1-3631-40d6-d1bd-b341c0e410ca"
      },
      "execution_count": 20,
      "outputs": [
        {
          "output_type": "stream",
          "name": "stdout",
          "text": [
            "10\n"
          ]
        }
      ]
    },
    {
      "cell_type": "markdown",
      "source": [
        "Exercicio 4."
      ],
      "metadata": {
        "id": "KsER4eVCgROy"
      }
    },
    {
      "cell_type": "code",
      "source": [
        "listaAlunos.sort()\n",
        "print(listaAlunos)\n"
      ],
      "metadata": {
        "colab": {
          "base_uri": "https://localhost:8080/"
        },
        "id": "G1pPEwNBgWt8",
        "outputId": "88fed950-f6df-479c-d290-7f6222f1ae52"
      },
      "execution_count": 21,
      "outputs": [
        {
          "output_type": "stream",
          "name": "stdout",
          "text": [
            "['CAIO', 'DANI', 'JOAO', 'JULIO', 'JUNIOR', 'LUD', 'MARI', 'MARIA', 'PAULO', 'PEDRO', 'SHALIN']\n"
          ]
        }
      ]
    },
    {
      "cell_type": "markdown",
      "source": [
        "Exercicio 5."
      ],
      "metadata": {
        "id": "Rych8ulIga-5"
      }
    },
    {
      "cell_type": "code",
      "source": [
        "notas = ()\n",
        "listaNotas = []\n",
        "i = 0\n",
        "while i != \"-1\":\n",
        "  i = input(\"Informe Nota do Aluno:\")\n",
        "  if i == \"-1\":\n",
        "    break\n",
        "  listaNotas.append(i)\n",
        "\n",
        "notas = tuple(listaNotas)\n",
        "print(\"Notas  dos Alunos: \",notas)"
      ],
      "metadata": {
        "colab": {
          "base_uri": "https://localhost:8080/"
        },
        "id": "H-G3d7CMgkc_",
        "outputId": "1fa3a3a5-a682-4e26-8c2e-5bfad30dfe37"
      },
      "execution_count": 22,
      "outputs": [
        {
          "output_type": "stream",
          "name": "stdout",
          "text": [
            "Informe Nota do Aluno:5.4\n",
            "Informe Nota do Aluno:6\n",
            "Informe Nota do Aluno:7.5\n",
            "Informe Nota do Aluno:6.5\n",
            "Informe Nota do Aluno:6\n",
            "Informe Nota do Aluno:4.6\n",
            "Informe Nota do Aluno:3.5\n",
            "Informe Nota do Aluno:5\n",
            "Informe Nota do Aluno:8\n",
            "Informe Nota do Aluno:7.7\n",
            "Informe Nota do Aluno:9\n",
            "Informe Nota do Aluno:-1\n",
            "Notas  dos Alunos:  ('5.4', '6', '7.5', '6.5', '6', '4.6', '3.5', '5', '8', '7.7', '9')\n"
          ]
        }
      ]
    },
    {
      "cell_type": "markdown",
      "source": [
        "Exercicio 6."
      ],
      "metadata": {
        "id": "j2PGdNrOgtcj"
      }
    },
    {
      "cell_type": "code",
      "source": [
        "boletin = dict(zip(listaAlunos,notas))\n",
        "print(\"Boletin: \",boletin)\n"
      ],
      "metadata": {
        "colab": {
          "base_uri": "https://localhost:8080/"
        },
        "id": "DPncek9ZgvwX",
        "outputId": "2d0a50df-dd76-4635-b7af-c816a78869a1"
      },
      "execution_count": 23,
      "outputs": [
        {
          "output_type": "stream",
          "name": "stdout",
          "text": [
            "Boletin:  {'CAIO': '5.4', 'DANI': '6', 'JOAO': '7.5', 'JULIO': '6.5', 'JUNIOR': '6', 'LUD': '4.6', 'MARI': '3.5', 'MARIA': '5', 'PAULO': '8', 'PEDRO': '7.7', 'SHALIN': '9'}\n"
          ]
        }
      ]
    },
    {
      "cell_type": "markdown",
      "source": [
        "Exercicio 7."
      ],
      "metadata": {
        "id": "aZe-8IhRiUXM"
      }
    },
    {
      "cell_type": "code",
      "source": [
        "for j,x in boletin.items():\n",
        "  if x >= \"7\":\n",
        "    print(f'Aluno:{j}\\nNota:{x} - Aprovado\\n')\n",
        "  else:\n",
        "     print(f'Aluno:{j}\\nNota:{x} - Reprovado\\n')\n",
        ""
      ],
      "metadata": {
        "colab": {
          "base_uri": "https://localhost:8080/"
        },
        "id": "tzbf5tc0iXpA",
        "outputId": "1d6101b9-90e9-4c30-e78a-7aaeaddbb0ff"
      },
      "execution_count": 97,
      "outputs": [
        {
          "output_type": "stream",
          "name": "stdout",
          "text": [
            "Aluno:CAIO\n",
            "Nota:5.4 - Reprovado\n",
            "\n",
            "Aluno:DANI\n",
            "Nota:6 - Reprovado\n",
            "\n",
            "Aluno:JOAO\n",
            "Nota:7.5 - Aprovado\n",
            "\n",
            "Aluno:JULIO\n",
            "Nota:6.5 - Reprovado\n",
            "\n",
            "Aluno:JUNIOR\n",
            "Nota:6 - Reprovado\n",
            "\n",
            "Aluno:LUD\n",
            "Nota:4.6 - Reprovado\n",
            "\n",
            "Aluno:MARI\n",
            "Nota:3.5 - Reprovado\n",
            "\n",
            "Aluno:MARIA\n",
            "Nota:5 - Reprovado\n",
            "\n",
            "Aluno:PAULO\n",
            "Nota:8 - Aprovado\n",
            "\n",
            "Aluno:PEDRO\n",
            "Nota:7.7 - Aprovado\n",
            "\n",
            "Aluno:SHALIN\n",
            "Nota:9 - Aprovado\n",
            "\n"
          ]
        }
      ]
    },
    {
      "cell_type": "markdown",
      "source": [],
      "metadata": {
        "id": "OYn_7_IFy7ag"
      }
    }
  ],
  "metadata": {
    "colab": {
      "provenance": []
    },
    "kernelspec": {
      "display_name": "Python 3",
      "name": "python3"
    },
    "language_info": {
      "name": "python"
    }
  },
  "nbformat": 4,
  "nbformat_minor": 0
}